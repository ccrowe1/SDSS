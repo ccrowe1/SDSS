{
 "cells": [
  {
   "cell_type": "markdown",
   "metadata": {},
   "source": [
    "# Import and answer 1st question"
   ]
  },
  {
   "cell_type": "code",
   "execution_count": null,
   "metadata": {
    "collapsed": true
   },
   "outputs": [],
   "source": [
    "from astropy.io import fits\n",
    "hdulist = fits.open('C:/Users/Cassie Crowe/DR12Q.fits')\n",
    "tbdata = hdulist[1].data\n",
    "\n",
    "# How many quasars are in the catalog?\n",
    "numquasars = len(tbdata)\n",
    "print('There are ' + str(numquasars) + ' quasars in the DR12 catalog')"
   ]
  },
  {
   "cell_type": "code",
   "execution_count": null,
   "metadata": {
    "collapsed": true
   },
   "outputs": [],
   "source": [
    "#find names of columns\n",
    "cols = hdulist[1].columns\n",
    "cols.names\n",
    "#gives back\n",
    "['SDSS_NAME', 'RA', 'DEC', 'THING_ID', 'PLATE', 'MJD', 'FIBERID', 'Z_VI', 'Z_PIPE', 'ERR_ZPIPE', 'ZWARNING', 'Z_PCA', 'ERR_ZPCA', 'PCA_QUAL', 'Z_CIV', 'Z_CIII', 'Z_MGII', 'SDSS_MORPHO', 'BOSS_TARGET1', 'ANCILLARY_TARGET1', 'ANCILLARY_TARGET2', 'EBOSS_TARGET0', 'NSPEC_BOSS', 'PLATE_DUPLICATE', 'MJD_DUPLICATE', 'FIBERID_DUPLICATE', 'SDSS_DR7', 'PLATE_DR7', 'MJD_DR7', 'FIBERID_DR7', 'UNIFORM', 'ALPHA_NU', 'SNR_SPEC', 'SNR_DUPLICATE', 'SNR_1700', 'SNR_3000', 'SNR_5150', 'FWHM_CIV', 'BHWHM_CIV', 'RHWHM_CIV', 'AMP_CIV', 'REWE_CIV', 'ERR_REWE_CIV', 'FWHM_CIII', 'BHWHM_CIII', 'RHWHM_CIII', 'AMP_CIII', 'REWE_CIII', 'ERR_REWE_CIII', 'FWHM_MGII', 'BHWHM_MGII', 'RHWHM_MGII', 'AMP_MGII', 'REWE_MGII', 'ERR_REWE_MGII', 'BAL_FLAG_VI', 'BI_CIV', 'ERR_BI_CIV', 'AI_CIV', 'ERR_AI_CIV', 'CHI2TROUGH', 'NCIV_2000', 'VMIN_CIV_2000', 'VMAX_CIV_2000', 'NCIV_450', 'VMIN_CIV_450', 'VMAX_CIV_450', 'REW_SIIV', 'REW_CIV', 'REW_ALIII', 'RUN_NUMBER', 'PHOTO_MJD', 'RERUN_NUMBER', 'COL_NUMBER', 'FIELD_NUMBER', 'OBJ_ID', 'PSFFLUX', 'IVAR_PSFFLUX', 'PSFMAG', 'ERR_PSFMAG', 'TARGET_FLUX', 'MI', 'DGMI', 'EXTINCTION', 'EXTINCTION_RECAL', 'HI_GAL', 'VAR_MATCHED', 'VAR_CHI2', 'VAR_A', 'VAR_GAMMA', 'RASS_COUNTS', 'RASS_COUNTS_SNR', 'SDSS2ROSAT_SEP', 'N_DETECTION_XMM', 'FLUX02_12KEV_SGL', 'ERR_FLUX02_12KEV_SGL', 'FLUX02_2KEV', 'ERR_FLUX02_2KEV', 'FLUX2_12KEV', 'ERR_FLUX2_12KEV', 'FLUX02_12KEV', 'ERR_FLUX02_12KEV', 'LUM02_2KEV_SGL', 'LUM05_2KEV', 'LUM2_12KEV', 'LUM02_2KEV', 'LUMX2_10_UPPER', 'SDSS2XMM_SEP', 'GALEX_MATCHED', 'FUV', 'FUV_IVAR', 'NUV', 'NUV_IVAR', 'JMAG', 'ERR_JMAG', 'JSNR', 'JRDFLAG', 'HMAG', 'ERR_HMAG', 'HSNR', 'HRDFLAG', 'KMAG', 'ERR_KMAG', 'KSNR', 'KRDFLAG', 'SDSS2MASS_SEP', 'W1MAG', 'ERR_W1MAG', 'W1SNR', 'W1CHI2', 'W2MAG', 'ERR_W2MAG', 'W2SNR', 'W2CHI2', 'W3MAG', 'ERR_W3MAG', 'W3SNR', 'W3CHI2', 'W4MAG', 'ERR_W4MAG', 'W4SNR', 'W4CHI2', 'CC_FLAGS', 'PH_FLAG', 'SDSS2WISE_SEP', 'UKIDSS_MATCHED', 'YFLUX', 'YFLUX_ERR', 'JFLUX', 'JFLUX_ERR', 'HFLUX', 'HFLUX_ERR', 'KFLUX', 'KFLUX_ERR', 'FIRST_MATCHED', 'FIRST_FLUX', 'FIRST_SNR', 'SDSS2FIRST_SEP']\n",
    "cols.info\n",
    "#gives names of columns, their format and units\n",
    "cols.info()\n",
    "#gives the same but in a different layout plus more.\n"
   ]
  },
  {
   "cell_type": "code",
   "execution_count": null,
   "metadata": {
    "collapsed": true
   },
   "outputs": [],
   "source": [
    "#read a single row\n",
    "print(tbdata[0])"
   ]
  },
  {
   "cell_type": "code",
   "execution_count": null,
   "metadata": {
    "collapsed": true
   },
   "outputs": [],
   "source": [
    "#read what's in a column\n",
    "tbdata.field(0)"
   ]
  },
  {
   "cell_type": "code",
   "execution_count": null,
   "metadata": {
    "collapsed": true
   },
   "outputs": [],
   "source": []
  }
 ],
 "metadata": {
  "anaconda-cloud": {},
  "kernelspec": {
   "display_name": "Python [conda root]",
   "language": "python",
   "name": "conda-root-py"
  },
  "language_info": {
   "codemirror_mode": {
    "name": "ipython",
    "version": 3
   },
   "file_extension": ".py",
   "mimetype": "text/x-python",
   "name": "python",
   "nbconvert_exporter": "python",
   "pygments_lexer": "ipython3",
   "version": "3.5.2"
  }
 },
 "nbformat": 4,
 "nbformat_minor": 1
}
"a, counts = np.unique(tbdata['BAL_FLAG_VI'], return_counts=True)"
"print('\n' + str(numquasars - counts[0]) + ' BAL quasars were previously observed in SDSS')"
